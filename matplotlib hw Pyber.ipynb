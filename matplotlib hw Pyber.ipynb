{
 "cells": [
  {
   "cell_type": "markdown",
   "metadata": {},
   "source": [
    "# Pyber: Matplotlib Homework \n",
    "Data Science Bootcamp Spring 2018\n",
    "\n",
    "Reminders: \n",
    "- You must stick to the Pyber color scheme (Gold, Light Sky Blue, and Light Coral) in producing your plot and pie charts.\n",
    "- When making your Bubble Plot, experiment with effects like alpha, edgecolor, and linewidths.\n",
    "- When making your Pie Chart, experiment with effects like shadow, startangle, and explosion."
   ]
  },
  {
   "cell_type": "code",
   "execution_count": 17,
   "metadata": {},
   "outputs": [],
   "source": [
    "# Dependencies\n",
    "import pandas as pd\n",
    "import matplotlib.pyplot as plt\n",
    "import seaborn as sns\n",
    "import numpy as np"
   ]
  },
  {
   "cell_type": "code",
   "execution_count": 18,
   "metadata": {},
   "outputs": [
    {
     "data": {
      "text/html": [
       "<div>\n",
       "<style scoped>\n",
       "    .dataframe tbody tr th:only-of-type {\n",
       "        vertical-align: middle;\n",
       "    }\n",
       "\n",
       "    .dataframe tbody tr th {\n",
       "        vertical-align: top;\n",
       "    }\n",
       "\n",
       "    .dataframe thead th {\n",
       "        text-align: right;\n",
       "    }\n",
       "</style>\n",
       "<table border=\"1\" class=\"dataframe\">\n",
       "  <thead>\n",
       "    <tr style=\"text-align: right;\">\n",
       "      <th></th>\n",
       "      <th>city</th>\n",
       "      <th>driver_count</th>\n",
       "      <th>type</th>\n",
       "    </tr>\n",
       "  </thead>\n",
       "  <tbody>\n",
       "    <tr>\n",
       "      <th>0</th>\n",
       "      <td>Kelseyland</td>\n",
       "      <td>63</td>\n",
       "      <td>Urban</td>\n",
       "    </tr>\n",
       "    <tr>\n",
       "      <th>1</th>\n",
       "      <td>Nguyenbury</td>\n",
       "      <td>8</td>\n",
       "      <td>Urban</td>\n",
       "    </tr>\n",
       "    <tr>\n",
       "      <th>2</th>\n",
       "      <td>East Douglas</td>\n",
       "      <td>12</td>\n",
       "      <td>Urban</td>\n",
       "    </tr>\n",
       "    <tr>\n",
       "      <th>3</th>\n",
       "      <td>West Dawnfurt</td>\n",
       "      <td>34</td>\n",
       "      <td>Urban</td>\n",
       "    </tr>\n",
       "    <tr>\n",
       "      <th>4</th>\n",
       "      <td>Rodriguezburgh</td>\n",
       "      <td>52</td>\n",
       "      <td>Urban</td>\n",
       "    </tr>\n",
       "  </tbody>\n",
       "</table>\n",
       "</div>"
      ],
      "text/plain": [
       "             city  driver_count   type\n",
       "0      Kelseyland            63  Urban\n",
       "1      Nguyenbury             8  Urban\n",
       "2    East Douglas            12  Urban\n",
       "3   West Dawnfurt            34  Urban\n",
       "4  Rodriguezburgh            52  Urban"
      ]
     },
     "execution_count": 18,
     "metadata": {},
     "output_type": "execute_result"
    }
   ],
   "source": [
    "#Import data files \n",
    "city_data = \"city_data.csv\"\n",
    "ride_data = \"ride_data.csv\"\n",
    "\n",
    "# Read in with pandas \n",
    "city_df = pd.read_csv(city_data)\n",
    "ride_df = pd.read_csv(ride_data) \n",
    "#ride_df.head()\n",
    "\n",
    "#drop duplicate values \n",
    "city_df = city_df.drop_duplicates('city')\n",
    "city_df.head() "
   ]
  },
  {
   "cell_type": "code",
   "execution_count": 19,
   "metadata": {},
   "outputs": [
    {
     "data": {
      "text/html": [
       "<div>\n",
       "<style scoped>\n",
       "    .dataframe tbody tr th:only-of-type {\n",
       "        vertical-align: middle;\n",
       "    }\n",
       "\n",
       "    .dataframe tbody tr th {\n",
       "        vertical-align: top;\n",
       "    }\n",
       "\n",
       "    .dataframe thead th {\n",
       "        text-align: right;\n",
       "    }\n",
       "</style>\n",
       "<table border=\"1\" class=\"dataframe\">\n",
       "  <thead>\n",
       "    <tr style=\"text-align: right;\">\n",
       "      <th></th>\n",
       "      <th>city</th>\n",
       "      <th>driver_count</th>\n",
       "      <th>type</th>\n",
       "      <th>date</th>\n",
       "      <th>fare</th>\n",
       "      <th>ride_id</th>\n",
       "    </tr>\n",
       "  </thead>\n",
       "  <tbody>\n",
       "    <tr>\n",
       "      <th>0</th>\n",
       "      <td>Kelseyland</td>\n",
       "      <td>63</td>\n",
       "      <td>Urban</td>\n",
       "      <td>2016-08-19 04:27:52</td>\n",
       "      <td>5.51</td>\n",
       "      <td>6246006544795</td>\n",
       "    </tr>\n",
       "    <tr>\n",
       "      <th>1</th>\n",
       "      <td>Kelseyland</td>\n",
       "      <td>63</td>\n",
       "      <td>Urban</td>\n",
       "      <td>2016-04-17 06:59:50</td>\n",
       "      <td>5.54</td>\n",
       "      <td>7466473222333</td>\n",
       "    </tr>\n",
       "    <tr>\n",
       "      <th>2</th>\n",
       "      <td>Kelseyland</td>\n",
       "      <td>63</td>\n",
       "      <td>Urban</td>\n",
       "      <td>2016-05-04 15:06:07</td>\n",
       "      <td>30.54</td>\n",
       "      <td>2140501382736</td>\n",
       "    </tr>\n",
       "    <tr>\n",
       "      <th>3</th>\n",
       "      <td>Kelseyland</td>\n",
       "      <td>63</td>\n",
       "      <td>Urban</td>\n",
       "      <td>2016-01-25 20:44:56</td>\n",
       "      <td>12.08</td>\n",
       "      <td>1896987891309</td>\n",
       "    </tr>\n",
       "    <tr>\n",
       "      <th>4</th>\n",
       "      <td>Kelseyland</td>\n",
       "      <td>63</td>\n",
       "      <td>Urban</td>\n",
       "      <td>2016-08-09 18:19:47</td>\n",
       "      <td>17.91</td>\n",
       "      <td>8784212854829</td>\n",
       "    </tr>\n",
       "  </tbody>\n",
       "</table>\n",
       "</div>"
      ],
      "text/plain": [
       "         city  driver_count   type                 date   fare        ride_id\n",
       "0  Kelseyland            63  Urban  2016-08-19 04:27:52   5.51  6246006544795\n",
       "1  Kelseyland            63  Urban  2016-04-17 06:59:50   5.54  7466473222333\n",
       "2  Kelseyland            63  Urban  2016-05-04 15:06:07  30.54  2140501382736\n",
       "3  Kelseyland            63  Urban  2016-01-25 20:44:56  12.08  1896987891309\n",
       "4  Kelseyland            63  Urban  2016-08-09 18:19:47  17.91  8784212854829"
      ]
     },
     "execution_count": 19,
     "metadata": {},
     "output_type": "execute_result"
    }
   ],
   "source": [
    "#merge two data frames\n",
    "merge_data = pd.merge(city_df, ride_df, on=\"city\")\n",
    "merge_data.head()"
   ]
  },
  {
   "cell_type": "code",
   "execution_count": 20,
   "metadata": {},
   "outputs": [
    {
     "data": {
      "text/plain": [
       "city            2375\n",
       "driver_count    2375\n",
       "type            2375\n",
       "date            2375\n",
       "fare            2375\n",
       "ride_id         2375\n",
       "dtype: int64"
      ]
     },
     "execution_count": 20,
     "metadata": {},
     "output_type": "execute_result"
    }
   ],
   "source": [
    "# Clean data of missing values \n",
    "merge_data = merge_data.dropna(how=\"any\")\n",
    "merge_data.count()"
   ]
  },
  {
   "cell_type": "code",
   "execution_count": 21,
   "metadata": {},
   "outputs": [
    {
     "data": {
      "image/png": "[encoded data removed]",
      "text/plain": [
       "<matplotlib.figure.Figure at 0x179c6ea5198>"
      ]
     },
     "metadata": {},
     "output_type": "display_data"
    }
   ],
   "source": [
    "#set color scheme for charts and plots \n",
    "# gold dbb40c\n",
    "# light sky blue c6fcff\n",
    "# light coral ff6163\n",
    "pyber_colors = [\"gold\", \"light sky blue\", \"coral\"]\n",
    "sns.palplot(sns.xkcd_palette(pyber_colors))"
   ]
  },
  {
   "cell_type": "markdown",
   "metadata": {},
   "source": [
    "# Bubble Plot of Pyber Data\n",
    "Shows: \n",
    "- Average Fare ($) Per City\n",
    "- Total Number of Rides Per City\n",
    "- Total Number of Drivers Per City\n",
    "- City Type (Urban, Suburban, Rural)"
   ]
  },
  {
   "cell_type": "code",
   "execution_count": 22,
   "metadata": {},
   "outputs": [
    {
     "data": {
      "text/plain": [
       "city\n",
       "Alvarezhaven            23.928710\n",
       "Alyssaberg              20.609615\n",
       "Anitamouth              37.315556\n",
       "Antoniomouth            23.625000\n",
       "Aprilchester            21.981579\n",
       "Arnoldview              25.106452\n",
       "Campbellport            33.711333\n",
       "Carrollbury             36.606000\n",
       "Carrollfort             25.395517\n",
       "Clarkstad               31.051667\n",
       "Conwaymouth             34.591818\n",
       "Davidtown               22.978095\n",
       "Davistown               21.497200\n",
       "East Cherylfurt         31.416154\n",
       "East Douglas            26.169091\n",
       "East Erin               24.478214\n",
       "East Jenniferchester    32.599474\n",
       "East Leslie             33.660909\n",
       "East Stephen            39.053000\n",
       "East Troybury           33.244286\n",
       "Edwardsbury             26.876667\n",
       "Erikport                30.043750\n",
       "Eriktown                25.478947\n",
       "Floresberg              32.310000\n",
       "Fosterside              23.034583\n",
       "Hernandezshire          32.002222\n",
       "Horneland               21.482500\n",
       "Jacksonfort             32.006667\n",
       "Jacobfort               24.779355\n",
       "Jasonfort               27.831667\n",
       "                          ...    \n",
       "South Roy               26.031364\n",
       "South Shannonborough    26.516667\n",
       "Spencertown             23.681154\n",
       "Stevensport             31.948000\n",
       "Stewartview             21.614000\n",
       "Swansonbury             27.464706\n",
       "Thomastown              30.308333\n",
       "Tiffanyton              28.510000\n",
       "Torresshire             24.207308\n",
       "Travisville             27.220870\n",
       "Vickimouth              21.474667\n",
       "Webstertown             29.721250\n",
       "West Alexis             19.523000\n",
       "West Brandy             24.157667\n",
       "West Brittanyton        25.436250\n",
       "West Dawnfurt           22.330345\n",
       "West Evan               27.013333\n",
       "West Jefferyfurt        21.072857\n",
       "West Kevintown          21.528571\n",
       "West Oscar              24.280000\n",
       "West Pamelaborough      33.799286\n",
       "West Paulport           33.278235\n",
       "West Peter              24.875484\n",
       "West Sydneyhaven        22.368333\n",
       "West Tony               29.609474\n",
       "Williamchester          34.278182\n",
       "Williamshire            26.990323\n",
       "Wiseborough             22.676842\n",
       "Yolandafurt             27.205500\n",
       "Zimmermanmouth          28.301667\n",
       "Name: fare, Length: 125, dtype: float64"
      ]
     },
     "execution_count": 22,
     "metadata": {},
     "output_type": "execute_result"
    }
   ],
   "source": [
    "# Calculate values for the plot \n",
    "# Average fare grouped by city \n",
    "avg_fare = merge_data.groupby(\"city\")[\"fare\"].mean()\n",
    "avg_fare"
   ]
  },
  {
   "cell_type": "code",
   "execution_count": 23,
   "metadata": {},
   "outputs": [
    {
     "data": {
      "text/plain": [
       "city\n",
       "Alvarezhaven            31\n",
       "Alyssaberg              26\n",
       "Anitamouth               9\n",
       "Antoniomouth            22\n",
       "Aprilchester            19\n",
       "Arnoldview              31\n",
       "Campbellport            15\n",
       "Carrollbury             10\n",
       "Carrollfort             29\n",
       "Clarkstad               12\n",
       "Conwaymouth             11\n",
       "Davidtown               21\n",
       "Davistown               25\n",
       "East Cherylfurt         13\n",
       "East Douglas            22\n",
       "East Erin               28\n",
       "East Jenniferchester    19\n",
       "East Leslie             11\n",
       "East Stephen            10\n",
       "East Troybury            7\n",
       "Edwardsbury             27\n",
       "Erikport                 8\n",
       "Eriktown                19\n",
       "Floresberg              10\n",
       "Fosterside              24\n",
       "Hernandezshire           9\n",
       "Horneland                4\n",
       "Jacksonfort              6\n",
       "Jacobfort               31\n",
       "Jasonfort               12\n",
       "                        ..\n",
       "South Roy               22\n",
       "South Shannonborough    15\n",
       "Spencertown             26\n",
       "Stevensport              5\n",
       "Stewartview             30\n",
       "Swansonbury             34\n",
       "Thomastown              24\n",
       "Tiffanyton              13\n",
       "Torresshire             26\n",
       "Travisville             23\n",
       "Vickimouth              15\n",
       "Webstertown             16\n",
       "West Alexis             20\n",
       "West Brandy             30\n",
       "West Brittanyton        24\n",
       "West Dawnfurt           29\n",
       "West Evan               12\n",
       "West Jefferyfurt        21\n",
       "West Kevintown           7\n",
       "West Oscar              29\n",
       "West Pamelaborough      14\n",
       "West Paulport           17\n",
       "West Peter              31\n",
       "West Sydneyhaven        18\n",
       "West Tony               19\n",
       "Williamchester          11\n",
       "Williamshire            31\n",
       "Wiseborough             19\n",
       "Yolandafurt             20\n",
       "Zimmermanmouth          24\n",
       "Name: date, Length: 125, dtype: int64"
      ]
     },
     "execution_count": 23,
     "metadata": {},
     "output_type": "execute_result"
    }
   ],
   "source": [
    "#total number of rides per city \n",
    "total_rides= merge_data.groupby(\"city\")[\"date\"].count()\n",
    "total_rides"
   ]
  },
  {
   "cell_type": "code",
   "execution_count": 24,
   "metadata": {},
   "outputs": [
    {
     "data": {
      "text/plain": [
       "city\n",
       "Alvarezhaven            31\n",
       "Alyssaberg              26\n",
       "Anitamouth               9\n",
       "Antoniomouth            22\n",
       "Aprilchester            19\n",
       "Arnoldview              31\n",
       "Campbellport            15\n",
       "Carrollbury             10\n",
       "Carrollfort             29\n",
       "Clarkstad               12\n",
       "Conwaymouth             11\n",
       "Davidtown               21\n",
       "Davistown               25\n",
       "East Cherylfurt         13\n",
       "East Douglas            22\n",
       "East Erin               28\n",
       "East Jenniferchester    19\n",
       "East Leslie             11\n",
       "East Stephen            10\n",
       "East Troybury            7\n",
       "Edwardsbury             27\n",
       "Erikport                 8\n",
       "Eriktown                19\n",
       "Floresberg              10\n",
       "Fosterside              24\n",
       "Hernandezshire           9\n",
       "Horneland                4\n",
       "Jacksonfort              6\n",
       "Jacobfort               31\n",
       "Jasonfort               12\n",
       "                        ..\n",
       "South Roy               22\n",
       "South Shannonborough    15\n",
       "Spencertown             26\n",
       "Stevensport              5\n",
       "Stewartview             30\n",
       "Swansonbury             34\n",
       "Thomastown              24\n",
       "Tiffanyton              13\n",
       "Torresshire             26\n",
       "Travisville             23\n",
       "Vickimouth              15\n",
       "Webstertown             16\n",
       "West Alexis             20\n",
       "West Brandy             30\n",
       "West Brittanyton        24\n",
       "West Dawnfurt           29\n",
       "West Evan               12\n",
       "West Jefferyfurt        21\n",
       "West Kevintown           7\n",
       "West Oscar              29\n",
       "West Pamelaborough      14\n",
       "West Paulport           17\n",
       "West Peter              31\n",
       "West Sydneyhaven        18\n",
       "West Tony               19\n",
       "Williamchester          11\n",
       "Williamshire            31\n",
       "Wiseborough             19\n",
       "Yolandafurt             20\n",
       "Zimmermanmouth          24\n",
       "Name: driver_count, Length: 125, dtype: int64"
      ]
     },
     "execution_count": 24,
     "metadata": {},
     "output_type": "execute_result"
    }
   ],
   "source": [
    "# Total Number of Drivers Per City\n",
    "total_drivers = merge_data.groupby(\"city\")[\"driver_count\"].count()\n",
    "total_drivers"
   ]
  },
  {
   "cell_type": "code",
   "execution_count": 25,
   "metadata": {},
   "outputs": [
    {
     "data": {
      "text/plain": [
       "Urban       66\n",
       "Suburban    41\n",
       "Rural       18\n",
       "Name: type, dtype: int64"
      ]
     },
     "execution_count": 25,
     "metadata": {},
     "output_type": "execute_result"
    }
   ],
   "source": [
    "# City Type (Urban, Suburban, Rural)\n",
    "city_type = city_df.set_index('city')['type']\n",
    "city_type.value_counts()"
   ]
  },
  {
   "cell_type": "code",
   "execution_count": 26,
   "metadata": {},
   "outputs": [
    {
     "data": {
      "text/html": [
       "<div>\n",
       "<style scoped>\n",
       "    .dataframe tbody tr th:only-of-type {\n",
       "        vertical-align: middle;\n",
       "    }\n",
       "\n",
       "    .dataframe tbody tr th {\n",
       "        vertical-align: top;\n",
       "    }\n",
       "\n",
       "    .dataframe thead th {\n",
       "        text-align: right;\n",
       "    }\n",
       "</style>\n",
       "<table border=\"1\" class=\"dataframe\">\n",
       "  <thead>\n",
       "    <tr style=\"text-align: right;\">\n",
       "      <th></th>\n",
       "      <th>Average Fare per City</th>\n",
       "      <th>City Type</th>\n",
       "      <th>Total Drivers</th>\n",
       "      <th>Total Rides</th>\n",
       "    </tr>\n",
       "  </thead>\n",
       "  <tbody>\n",
       "    <tr>\n",
       "      <th>Alvarezhaven</th>\n",
       "      <td>23.928710</td>\n",
       "      <td>Urban</td>\n",
       "      <td>31</td>\n",
       "      <td>31</td>\n",
       "    </tr>\n",
       "    <tr>\n",
       "      <th>Alyssaberg</th>\n",
       "      <td>20.609615</td>\n",
       "      <td>Urban</td>\n",
       "      <td>26</td>\n",
       "      <td>26</td>\n",
       "    </tr>\n",
       "    <tr>\n",
       "      <th>Anitamouth</th>\n",
       "      <td>37.315556</td>\n",
       "      <td>Suburban</td>\n",
       "      <td>9</td>\n",
       "      <td>9</td>\n",
       "    </tr>\n",
       "    <tr>\n",
       "      <th>Antoniomouth</th>\n",
       "      <td>23.625000</td>\n",
       "      <td>Urban</td>\n",
       "      <td>22</td>\n",
       "      <td>22</td>\n",
       "    </tr>\n",
       "    <tr>\n",
       "      <th>Aprilchester</th>\n",
       "      <td>21.981579</td>\n",
       "      <td>Urban</td>\n",
       "      <td>19</td>\n",
       "      <td>19</td>\n",
       "    </tr>\n",
       "  </tbody>\n",
       "</table>\n",
       "</div>"
      ],
      "text/plain": [
       "              Average Fare per City City Type  Total Drivers  Total Rides\n",
       "Alvarezhaven              23.928710     Urban             31           31\n",
       "Alyssaberg                20.609615     Urban             26           26\n",
       "Anitamouth                37.315556  Suburban              9            9\n",
       "Antoniomouth              23.625000     Urban             22           22\n",
       "Aprilchester              21.981579     Urban             19           19"
      ]
     },
     "execution_count": 26,
     "metadata": {},
     "output_type": "execute_result"
    }
   ],
   "source": [
    "#Create new dataframe with results \n",
    "pyber_cities = pd.DataFrame({\"Average Fare per City\": avg_fare,\n",
    "                            \"Total Rides\": total_rides,\n",
    "                            \"Total Drivers\": total_drivers,\n",
    "                            \"City Type\": city_type})\n",
    "pyber_cities.head()"
   ]
  },
  {
   "cell_type": "code",
   "execution_count": 27,
   "metadata": {},
   "outputs": [],
   "source": [
    "# Create separate dataframes for city types \n",
    "urban = pyber_cities.loc[pyber_cities[\"City Type\"]== \"Urban\"]\n",
    "suburban = pyber_cities.loc[pyber_cities[\"City Type\"]== \"Suburban\"]\n",
    "rural = pyber_cities.loc[pyber_cities[\"City Type\"]== \"Rural\"]"
   ]
  },
  {
   "cell_type": "code",
   "execution_count": 40,
   "metadata": {},
   "outputs": [
    {
     "name": "stdout",
     "output_type": "stream",
     "text": [
      "Current size: [8.0, 6.0]\n"
     ]
    },
    {
     "data": {
      "image/png": "[encoded data removed]",
      "text/plain": [
       "<matplotlib.figure.Figure at 0x25b794cbac8>"
      ]
     },
     "metadata": {},
     "output_type": "display_data"
    }
   ],
   "source": [
    "# Create scatter plots for each city type \n",
    "plt.scatter(urban[\"Total Rides\"], urban[\"Average Fare per City\"], marker=\"o\", color=\"gold\", edgecolors=\"black\",\n",
    "            s=urban[\"Total Drivers\"]*15, label = \"Urban\", alpha=0.5, linewidth=1)\n",
    "\n",
    "plt.scatter(suburban[\"Total Rides\"], suburban[\"Average Fare per City\"], marker=\"o\", color=\"lightcoral\", edgecolors=\"black\",\n",
    "            s=suburban[\"Total Drivers\"]*15, label = \"Suburban\", alpha=0.5, linewidth=1)\n",
    "\n",
    "plt.scatter(rural[\"Total Rides\"], rural[\"Average Fare per City\"], marker=\"o\", color=\"lightskyblue\", edgecolors=\"black\",\n",
    "            s=rural[\"Total Drivers\"]*15, label = \"Rural\", alpha=0.5, linewidth=1)\n",
    "\n",
    "#Add title and axis labels to \n",
    "plt.title(\"Pyber Ride Sharing Data (2016)\")\n",
    "plt.xlabel(\"Total Rides (Per City)\")\n",
    "plt.ylabel(\"Average Fare ($)\")\n",
    "\n",
    "#Note about circle size\n",
    "plt.text(40, 45, \"Note: Circle size correlates with total driver count per city\")\n",
    "\n",
    "#add legend \n",
    "plt.legend(loc=\"best\")\n",
    "\n",
    "#Change figure size\n",
    "# Get current size\n",
    "fig_size = plt.rcParams[\"figure.figsize\"]\n",
    "print(\"Current size:\", fig_size)\n",
    "#prints Current size: [6.0, 4.0]\n",
    " \n",
    "#Set figure width to 12 and height to 9\n",
    "fig_size[0] = 8\n",
    "fig_size[1] = 6\n",
    "plt.rcParams[\"figure.figsize\"] = fig_size"
   ]
  },
  {
   "cell_type": "markdown",
   "metadata": {},
   "source": [
    "# Pie Charts \n",
    "Produce the following three pie charts:\n",
    "- % of Total Fares by City Type\n",
    "- % of Total Rides by City Type\n",
    "- % of Total Drivers by City Type"
   ]
  },
  {
   "cell_type": "code",
   "execution_count": 35,
   "metadata": {},
   "outputs": [
    {
     "data": {
      "text/plain": [
       "type\n",
       "Rural        4255.09\n",
       "Suburban    19317.88\n",
       "Urban       40078.34\n",
       "Name: fare, dtype: float64"
      ]
     },
     "execution_count": 35,
     "metadata": {},
     "output_type": "execute_result"
    }
   ],
   "source": [
    "# Total fares by city type \n",
    "city_fare_pie = merge_data.groupby([\"type\"])[\"fare\"].sum()\n",
    "city_fare_pie"
   ]
  },
  {
   "cell_type": "code",
   "execution_count": 36,
   "metadata": {},
   "outputs": [
    {
     "data": {
      "text/plain": [
       "Index(['Rural', 'Suburban', 'Urban'], dtype='object', name='type')"
      ]
     },
     "execution_count": 36,
     "metadata": {},
     "output_type": "execute_result"
    }
   ],
   "source": [
    "# Use the city pie index to label pie slices \n",
    "city_fare_pie.index"
   ]
  },
  {
   "cell_type": "code",
   "execution_count": 38,
   "metadata": {},
   "outputs": [
    {
     "data": {
      "image/png": "[encoded data removed]",
      "text/plain": [
       "<matplotlib.figure.Figure at 0x179c70757b8>"
      ]
     },
     "metadata": {},
     "output_type": "display_data"
    }
   ],
   "source": [
    "#Set the colors of each section of the pie chart.\n",
    "colors = [\"gold\", \"lightskyblue\", \"lightcoral\"]\n",
    "\n",
    "# Explode pie slice \n",
    "explode = (0,0, 0.1)\n",
    "\n",
    "# Create pie chart for total fares by city type \n",
    "plt.pie(city_fare_pie, labels = city_fare_pie.index, autopct = \"%1.2f%%\", colors = colors, explode = explode, shadow = True, startangle = 270)\n",
    "\n",
    "# Add legend \n",
    "plt.legend(loc=\"upper right\")\n",
    "\n",
    "#set equal axis \n",
    "plt.axis(\"equal\")\n",
    "\n",
    "#plot chart \n",
    "plt.show()"
   ]
  },
  {
   "cell_type": "code",
   "execution_count": 39,
   "metadata": {},
   "outputs": [
    {
     "data": {
      "text/plain": [
       "type\n",
       "Rural        125\n",
       "Suburban     625\n",
       "Urban       1625\n",
       "Name: ride_id, dtype: int64"
      ]
     },
     "execution_count": 39,
     "metadata": {},
     "output_type": "execute_result"
    }
   ],
   "source": [
    "#Total rides by city type.\n",
    "\n",
    "city_rides_pie = merge_data.groupby([\"type\"])[\"ride_id\"].count()\n",
    "city_rides_pie"
   ]
  },
  {
   "cell_type": "code",
   "execution_count": 40,
   "metadata": {},
   "outputs": [
    {
     "data": {
      "image/png": "[encoded data removed]",
      "text/plain": [
       "<matplotlib.figure.Figure at 0x179c70f20b8>"
      ]
     },
     "metadata": {},
     "output_type": "display_data"
    }
   ],
   "source": [
    "# Create index for slice labels \n",
    "city_rides_pie.index\n",
    "\n",
    "#Explode the first section \n",
    "explode = (0.5,0,0)\n",
    "\n",
    "#Create the pie chart.\n",
    "plt.pie(city_rides_pie, labels = city_fare_pie.index, autopct = \"%1.2f%%\", colors = colors, explode = explode, shadow = True)\n",
    "\n",
    "#Tell Matplotlib that we wnat the pie chart to have equal axes.\n",
    "plt.axis(\"equal\")\n",
    "\n",
    "#Add the legend.\n",
    "plt.legend(loc = \"upper right\")\n",
    "\n",
    "#Show the chart.\n",
    "plt.show()"
   ]
  },
  {
   "cell_type": "code",
   "execution_count": 42,
   "metadata": {},
   "outputs": [
    {
     "data": {
      "text/plain": [
       "type\n",
       "Rural        5.816000\n",
       "Suburban    15.414400\n",
       "Urban       39.692923\n",
       "Name: driver_count, dtype: float64"
      ]
     },
     "execution_count": 42,
     "metadata": {},
     "output_type": "execute_result"
    }
   ],
   "source": [
    "# Total drive count by city  \n",
    "city_drivers_pie = merge_data.groupby([\"type\"])[\"driver_count\"].mean()\n",
    "city_drivers_pie"
   ]
  },
  {
   "cell_type": "code",
   "execution_count": 43,
   "metadata": {},
   "outputs": [
    {
     "data": {
      "image/png": "[encoded data removed]",
      "text/plain": [
       "<matplotlib.figure.Figure at 0x179c70d0080>"
      ]
     },
     "metadata": {},
     "output_type": "display_data"
    }
   ],
   "source": [
    "# City pie index for labels \n",
    "city_drivers_pie.index\n",
    "\n",
    "#explode first and second segments of the pie \n",
    "explode = (0.2, 0.2, 0)\n",
    "\n",
    "#Create the pie chart \n",
    "plt.pie(city_drivers_pie, labels = city_fare_pie.index, autopct = \"%1.2f%%\", colors = colors, explode = explode, shadow = True)\n",
    "\n",
    "#set equal axis \n",
    "plt.axis(\"equal\")\n",
    "\n",
    "#add the legend \n",
    "plt.legend(loc = \"upper right\")\n",
    "\n",
    "# show the pie chart \n",
    "plt.show()"
   ]
  },
  {
   "cell_type": "markdown",
   "metadata": {},
   "source": [
    "# Pyber Data Trends\n",
    "There is a higher volume of business in urban markets. Urban areas have the highest number of rides, highest number of drivers, and the lowest average fare among the three geographic area types. Further, urban cities also have a higher percentage of the total fares at 63 percent. Conversely, rural areas have less of the market share and higher average fares with rural areas owning the smallest share of the fares at 7 percent. These fare differences may be due to the differences in supply and demand seen in urban vs. rural areas. It's possible urban areas and their larger populations are likely to have more people without cars and thereby may be more to rely on ridesharing to get around.  "
   ]
  },
  {
   "cell_type": "code",
   "execution_count": null,
   "metadata": {},
   "outputs": [],
   "source": []
  }
 ],
 "metadata": {
  "kernelspec": {
   "display_name": "Python 3",
   "language": "python",
   "name": "python3"
  },
  "language_info": {
   "codemirror_mode": {
    "name": "ipython",
    "version": 3
   },
   "file_extension": ".py",
   "mimetype": "text/x-python",
   "name": "python",
   "nbconvert_exporter": "python",
   "pygments_lexer": "ipython3",
   "version": "3.6.4"
  }
 },
 "nbformat": 4,
 "nbformat_minor": 2
}
